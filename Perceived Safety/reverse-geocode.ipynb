{
 "cells": [
  {
   "cell_type": "markdown",
   "metadata": {},
   "source": [
    "### Perceptions of Urban Perception\n",
    "Our perceptions of the urban landscape--sidewalks, buildings, roads--can differ wildly from the actual experience of neighborhoods. This project investigates the differences between perception and reality in terms of safety/crime in New York City neighborhoods. Which neighborhoods are perceived as more dangerous or safer than they actually are? What are the socioeconomic and physical features that characterize these neighborhoods? Answering these questions can help urban dwellers and policymakers understand the way urban perception is related to livability and guide future planning initiatives.\n",
    "\n",
    "This notebook covers the first step in the project--reverse geolocating crime, perceived safety, and other select socioeconomic/physical data from longitude and latitude pairs into census tracts. \n",
    "\n",
    "Diana Lam  \n",
    "March 2016"
   ]
  },
  {
   "cell_type": "markdown",
   "metadata": {},
   "source": [
    "### Table of Contents\n",
    "[1. Load necessary packages and define functions to prep data](#1)  \n",
    "[2. Reverse geocode data](#2)  \n",
    "[3. Get geography reference data](#3)"
   ]
  },
  {
   "cell_type": "markdown",
   "metadata": {},
   "source": [
    "### <a id='1'></a> 1. Load necessary packages and define functions to prep data"
   ]
  },
  {
   "cell_type": "code",
   "execution_count": 4,
   "metadata": {
    "collapsed": false
   },
   "outputs": [],
   "source": [
    "import pandas as pd\n",
    "import numpy as np\n",
    "import pickle\n",
    "from tqdm import tqdm, tqdm_pandas\n",
    "from geopy.distance import great_circle, vincenty\n",
    "import json\n",
    "from shapely.geometry import shape, Point, Polygon\n",
    "from rtree import index"
   ]
  },
  {
   "cell_type": "code",
   "execution_count": 5,
   "metadata": {
    "collapsed": true
   },
   "outputs": [],
   "source": [
    "def open_pkl(path):\n",
    "    \"\"\"Open pickle file.\"\"\"\n",
    "    with open(path, 'r') as picklefile:\n",
    "        f = pickle.load(picklefile)\n",
    "    return f\n",
    "\n",
    "def to_pkl(path, name):\n",
    "    \"Pickle a file.\"\n",
    "    with open(path, 'w') as picklefile:\n",
    "        pickle.dump(name, picklefile)"
   ]
  },
  {
   "cell_type": "code",
   "execution_count": 159,
   "metadata": {
    "collapsed": true
   },
   "outputs": [],
   "source": [
    "def get_lat(x):\n",
    "    \"\"\"Get latitude given tuple pair of (latitude, longitude) for crime df.\"\"\"\n",
    "    try:\n",
    "        return x.translate(None, \"'(),\").split()[0]\n",
    "    except:\n",
    "        return x\n",
    "    \n",
    "def get_lon(x):\n",
    "    \"\"\"Get longitude given tuple pair of (latitude, longitude) for crime df.\"\"\"\n",
    "    try:\n",
    "        return x.translate(None, \"'(),\").split()[1]\n",
    "    except:\n",
    "        return x"
   ]
  },
  {
   "cell_type": "markdown",
   "metadata": {},
   "source": [
    "### <a id='2'></a> 2. Reverse geocode: get Census block group & tract from coordinate."
   ]
  },
  {
   "cell_type": "code",
   "execution_count": 9,
   "metadata": {
    "collapsed": true
   },
   "outputs": [],
   "source": [
    "def add_fips_idx_df_bg(df, lat, lon, json):\n",
    "    \"\"\"Add census block group and tract data to dataframe based on coordinates. \n",
    "    Use rtree indexing to find intersections before checking if a shape contains \n",
    "    the point.\n",
    "    Args:\n",
    "    df (dataframe): dataframe to use/add data to\n",
    "    lat (str): name of latitude column in dataframe\n",
    "    lon (str): name of longitude column in dataframe\n",
    "    json (geojson): geojson file of block group geographies\n",
    "    \"\"\"\n",
    "    # create list of polygons and properties\n",
    "    polygons = [shape(feature['geometry']) for feature in json['features']]\n",
    "    properties = [feature['properties'] for feature in json['features']]\n",
    "    \n",
    "    # create r-tree index\n",
    "    idx = index.Index()\n",
    "    for pos, poly in enumerate(polygons):\n",
    "        idx.insert(pos, poly.bounds)\n",
    "\n",
    "    # get points to search\n",
    "    df_pairs = zip(df[lat], df[lon])\n",
    "    \n",
    "    # search for point in index\n",
    "    results = []\n",
    "    for coord in tqdm(df_pairs):\n",
    "        point = Point(float(coord[1]), float(coord[0]))\n",
    "        try:\n",
    "            poly_idx = [i for i in idx.intersection((point.coords[0])) if point.within(polygons[i])]\n",
    "            if len(poly_idx) > 0:\n",
    "                for num, idx_result in enumerate(poly_idx, 1):\n",
    "                    results.append(properties[idx_result])\n",
    "            else:\n",
    "                results.append('no result')\n",
    "        except:\n",
    "            results.append('error')\n",
    "            continue\n",
    "            \n",
    "    # get block groups\n",
    "    block_groups = []\n",
    "    for result in results:\n",
    "        try:\n",
    "            block_groups.append(result['GEOID10'])\n",
    "        except:\n",
    "            block_groups.append('no result')\n",
    "    \n",
    "    # get tracts\n",
    "    tracts = []\n",
    "    for group in block_groups:\n",
    "        try:\n",
    "            tracts.append(group[:-1])\n",
    "        except:\n",
    "            tracts.append('no result')\n",
    "    \n",
    "    # update df with results\n",
    "    df.loc[:, 'fips_detail'] = results\n",
    "    df.loc[:, 'fips_bg'] = block_groups\n",
    "    df.loc[:, 'fips_tract'] = tracts"
   ]
  },
  {
   "cell_type": "markdown",
   "metadata": {},
   "source": [
    "#### Load census block group geo file"
   ]
  },
  {
   "cell_type": "code",
   "execution_count": null,
   "metadata": {
    "collapsed": true
   },
   "outputs": [],
   "source": [
    "# load geojson file with shapes - state census block groups \n",
    "with open('data/tl_2010_36_bg10/blockgroups.json', 'r') as f:\n",
    "    js_bg = json.load(f)"
   ]
  },
  {
   "cell_type": "markdown",
   "metadata": {},
   "source": [
    "#### Perceived safety scores"
   ]
  },
  {
   "cell_type": "code",
   "execution_count": null,
   "metadata": {
    "collapsed": true
   },
   "outputs": [],
   "source": [
    "ss = pd.read_csv('data/streetscore_newyorkcity.csv') # perceived safety scores\n",
    "%time add_fips_idx_df_bg(ss, 'latitude', 'longitude', js_bg)\n",
    "to_pkl('data/pickled/ss_withzip.pkl', ss)"
   ]
  },
  {
   "cell_type": "markdown",
   "metadata": {},
   "source": [
    "#### NYPD crime data"
   ]
  },
  {
   "cell_type": "code",
   "execution_count": null,
   "metadata": {
    "collapsed": true
   },
   "outputs": [],
   "source": [
    "crime = pd.read_csv('data/NYPD_7_Major_Felony_Incidents.csv') # crime \n",
    "crime['lat'] = crime['Location 1'].apply(get_lat)\n",
    "crime['lon'] = crime['Location 1'].apply(get_lon)"
   ]
  },
  {
   "cell_type": "code",
   "execution_count": 853,
   "metadata": {
    "collapsed": false
   },
   "outputs": [
    {
     "name": "stderr",
     "output_type": "stream",
     "text": [
      "                                                         "
     ]
    },
    {
     "name": "stdout",
     "output_type": "stream",
     "text": [
      "CPU times: user 3min 27s, sys: 3.06 s, total: 3min 30s\n",
      "Wall time: 3min 46s\n"
     ]
    },
    {
     "name": "stderr",
     "output_type": "stream",
     "text": [
      "\r"
     ]
    }
   ],
   "source": [
    "%time add_fips_idx_df_bg(crime, 'lat', 'lon', js_bg)\n",
    "to_pkl('data/pickled/crime_withzip.pkl', crime)"
   ]
  },
  {
   "cell_type": "markdown",
   "metadata": {},
   "source": [
    "#### 311 complaints"
   ]
  },
  {
   "cell_type": "code",
   "execution_count": 6,
   "metadata": {
    "collapsed": false
   },
   "outputs": [],
   "source": [
    "complaints = open_pkl('data/pickled/x311_2014.pkl')"
   ]
  },
  {
   "cell_type": "code",
   "execution_count": 12,
   "metadata": {
    "collapsed": false
   },
   "outputs": [
    {
     "name": "stderr",
     "output_type": "stream",
     "text": []
    }
   ],
   "source": [
    "add_fips_idx_df_bg(complaints, 'Latitude', 'Longitude', js_bg)"
   ]
  },
  {
   "cell_type": "code",
   "execution_count": 17,
   "metadata": {
    "collapsed": false
   },
   "outputs": [],
   "source": [
    "to_pkl('data/pickled/compaints_geo.pkl', complaints)"
   ]
  },
  {
   "cell_type": "markdown",
   "metadata": {},
   "source": [
    "#### Transit/subway access"
   ]
  },
  {
   "cell_type": "code",
   "execution_count": 34,
   "metadata": {
    "collapsed": true
   },
   "outputs": [],
   "source": [
    "mta = pd.read_csv('data/dem_data/subway_stations.csv')"
   ]
  },
  {
   "cell_type": "code",
   "execution_count": 36,
   "metadata": {
    "collapsed": false
   },
   "outputs": [],
   "source": [
    "# get unique mta subway stations\n",
    "mta['line_station'] = mta.Line + mta.Station_Name\n",
    "mta2 = mta.drop_duplicates(subset = 'line_station')"
   ]
  },
  {
   "cell_type": "code",
   "execution_count": 80,
   "metadata": {
    "collapsed": false
   },
   "outputs": [
    {
     "name": "stderr",
     "output_type": "stream",
     "text": []
    }
   ],
   "source": [
    "add_fips_idx_df_bg(mta2, 'Station_Latitude', 'Station_Longitude', js_bg)\n",
    "to_pkl('data/pickled/mta_stations.pkl', mta2)"
   ]
  },
  {
   "cell_type": "code",
   "execution_count": 56,
   "metadata": {
    "collapsed": false
   },
   "outputs": [],
   "source": [
    "tractdf = open_pkl('data/pickled/tract_df.pkl')"
   ]
  },
  {
   "cell_type": "code",
   "execution_count": 59,
   "metadata": {
    "collapsed": false
   },
   "outputs": [],
   "source": [
    "ssp = open_pkl('data/pickled/ss_withzip.pkl')"
   ]
  },
  {
   "cell_type": "markdown",
   "metadata": {},
   "source": [
    "### <a id='3'></a> 3. Get geography reference data for census block groups/tracts"
   ]
  },
  {
   "cell_type": "code",
   "execution_count": 125,
   "metadata": {
    "collapsed": true
   },
   "outputs": [],
   "source": [
    "def make_fips(ct2010, borough):\n",
    "    \"\"\"Translate NYC CT2010 code into census fips code.\"\"\"\n",
    "    state = '36'\n",
    "    boro_dict = {'Bronx': '005', 'Brooklyn': '047', 'Manhattan': '061', 'Queens': '081', 'Staten Island': '085' }\n",
    "    return state + boro_dict[borough] + str(ct2010)"
   ]
  },
  {
   "cell_type": "code",
   "execution_count": 793,
   "metadata": {
    "collapsed": true
   },
   "outputs": [],
   "source": [
    "def get_geo_dict(geo_df):\n",
    "    \"\"\"Get reference data dict for given geography given df of the geojson file.\"\"\"\n",
    "    properties = [i['properties'] for i in geo_df['features']]\n",
    "    newdf = pd.DataFrame(properties)\n",
    "    return newdf"
   ]
  },
  {
   "cell_type": "code",
   "execution_count": 760,
   "metadata": {
    "collapsed": true
   },
   "outputs": [],
   "source": [
    "bg_df = pd.DataFrame(js_bg['features'])"
   ]
  },
  {
   "cell_type": "code",
   "execution_count": 120,
   "metadata": {
    "collapsed": false
   },
   "outputs": [],
   "source": [
    "properties = [i['properties'] for i in js_ct['features']]\n",
    "ct_df = pd.DataFrame(properties)"
   ]
  },
  {
   "cell_type": "code",
   "execution_count": 126,
   "metadata": {
    "collapsed": false
   },
   "outputs": [],
   "source": [
    "ct_df['fips'] = ct_df.apply(lambda row: make_fips(row.CT2010, row.BoroName), axis = 1)"
   ]
  },
  {
   "cell_type": "code",
   "execution_count": 127,
   "metadata": {
    "collapsed": false
   },
   "outputs": [],
   "source": [
    "tract_dict = dict(zip(ct_df.fips, ct_df.BoroCT2010))"
   ]
  },
  {
   "cell_type": "code",
   "execution_count": 153,
   "metadata": {
    "collapsed": false
   },
   "outputs": [],
   "source": [
    "ssp.replace(['no result', 'no resul'], np.nan, inplace = True)\n",
    "ssp.dropna(inplace = True)"
   ]
  },
  {
   "cell_type": "code",
   "execution_count": 154,
   "metadata": {
    "collapsed": false
   },
   "outputs": [],
   "source": [
    "ssp['boro_code'] = ssp.apply(lambda row: row.fips_detail['COUNTYFP10'], axis = 1)"
   ]
  },
  {
   "cell_type": "code",
   "execution_count": 795,
   "metadata": {
    "collapsed": false
   },
   "outputs": [],
   "source": [
    "bg_df2 = get_geo_dict(bg_df) # what goes into this function?"
   ]
  },
  {
   "cell_type": "code",
   "execution_count": 796,
   "metadata": {
    "collapsed": false
   },
   "outputs": [
    {
     "data": {
      "text/html": [
       "<div>\n",
       "<table border=\"1\" class=\"dataframe\">\n",
       "  <thead>\n",
       "    <tr style=\"text-align: right;\">\n",
       "      <th></th>\n",
       "      <th>ALAND10</th>\n",
       "      <th>AWATER10</th>\n",
       "      <th>BLKGRPCE10</th>\n",
       "      <th>COUNTYFP10</th>\n",
       "      <th>FUNCSTAT10</th>\n",
       "      <th>GEOID10</th>\n",
       "      <th>INTPTLAT10</th>\n",
       "      <th>INTPTLON10</th>\n",
       "      <th>MTFCC10</th>\n",
       "      <th>NAMELSAD10</th>\n",
       "      <th>STATEFP10</th>\n",
       "      <th>TRACTCE10</th>\n",
       "    </tr>\n",
       "  </thead>\n",
       "  <tbody>\n",
       "    <tr>\n",
       "      <th>0</th>\n",
       "      <td>17263315</td>\n",
       "      <td>38069</td>\n",
       "      <td>1</td>\n",
       "      <td>007</td>\n",
       "      <td>S</td>\n",
       "      <td>360070121011</td>\n",
       "      <td>+42.2174896</td>\n",
       "      <td>-075.8790269</td>\n",
       "      <td>G5030</td>\n",
       "      <td>Block Group 1</td>\n",
       "      <td>36</td>\n",
       "      <td>012101</td>\n",
       "    </tr>\n",
       "    <tr>\n",
       "      <th>1</th>\n",
       "      <td>5586521</td>\n",
       "      <td>104976</td>\n",
       "      <td>4</td>\n",
       "      <td>007</td>\n",
       "      <td>S</td>\n",
       "      <td>360070121014</td>\n",
       "      <td>+42.1831807</td>\n",
       "      <td>-075.8760650</td>\n",
       "      <td>G5030</td>\n",
       "      <td>Block Group 4</td>\n",
       "      <td>36</td>\n",
       "      <td>012101</td>\n",
       "    </tr>\n",
       "    <tr>\n",
       "      <th>2</th>\n",
       "      <td>1845677</td>\n",
       "      <td>0</td>\n",
       "      <td>3</td>\n",
       "      <td>007</td>\n",
       "      <td>S</td>\n",
       "      <td>360070121013</td>\n",
       "      <td>+42.1931188</td>\n",
       "      <td>-075.8462160</td>\n",
       "      <td>G5030</td>\n",
       "      <td>Block Group 3</td>\n",
       "      <td>36</td>\n",
       "      <td>012101</td>\n",
       "    </tr>\n",
       "    <tr>\n",
       "      <th>3</th>\n",
       "      <td>5082696</td>\n",
       "      <td>183811</td>\n",
       "      <td>4</td>\n",
       "      <td>007</td>\n",
       "      <td>S</td>\n",
       "      <td>360070121024</td>\n",
       "      <td>+42.1823571</td>\n",
       "      <td>-075.8436840</td>\n",
       "      <td>G5030</td>\n",
       "      <td>Block Group 4</td>\n",
       "      <td>36</td>\n",
       "      <td>012102</td>\n",
       "    </tr>\n",
       "    <tr>\n",
       "      <th>4</th>\n",
       "      <td>1094202</td>\n",
       "      <td>145781</td>\n",
       "      <td>3</td>\n",
       "      <td>007</td>\n",
       "      <td>S</td>\n",
       "      <td>360070121023</td>\n",
       "      <td>+42.1677108</td>\n",
       "      <td>-075.8793775</td>\n",
       "      <td>G5030</td>\n",
       "      <td>Block Group 3</td>\n",
       "      <td>36</td>\n",
       "      <td>012102</td>\n",
       "    </tr>\n",
       "  </tbody>\n",
       "</table>\n",
       "</div>"
      ],
      "text/plain": [
       "    ALAND10  AWATER10 BLKGRPCE10 COUNTYFP10 FUNCSTAT10       GEOID10  \\\n",
       "0  17263315     38069          1        007          S  360070121011   \n",
       "1   5586521    104976          4        007          S  360070121014   \n",
       "2   1845677         0          3        007          S  360070121013   \n",
       "3   5082696    183811          4        007          S  360070121024   \n",
       "4   1094202    145781          3        007          S  360070121023   \n",
       "\n",
       "    INTPTLAT10    INTPTLON10 MTFCC10     NAMELSAD10 STATEFP10 TRACTCE10  \n",
       "0  +42.2174896  -075.8790269   G5030  Block Group 1        36    012101  \n",
       "1  +42.1831807  -075.8760650   G5030  Block Group 4        36    012101  \n",
       "2  +42.1931188  -075.8462160   G5030  Block Group 3        36    012101  \n",
       "3  +42.1823571  -075.8436840   G5030  Block Group 4        36    012102  \n",
       "4  +42.1677108  -075.8793775   G5030  Block Group 3        36    012102  "
      ]
     },
     "execution_count": 796,
     "metadata": {},
     "output_type": "execute_result"
    }
   ],
   "source": [
    "bg_df2.head()"
   ]
  },
  {
   "cell_type": "code",
   "execution_count": 782,
   "metadata": {
    "collapsed": true
   },
   "outputs": [],
   "source": [
    "with open('data/pickled/TRACT_DICT.pkl', 'w') as picklefile:\n",
    "    pickle.dump(tract_dict, picklefile)"
   ]
  },
  {
   "cell_type": "code",
   "execution_count": 784,
   "metadata": {
    "collapsed": true
   },
   "outputs": [],
   "source": [
    "with open('data/pickled/TRACT_DF.pkl', 'w') as picklefile:\n",
    "    pickle.dump(ct_df, picklefile)"
   ]
  },
  {
   "cell_type": "code",
   "execution_count": 809,
   "metadata": {
    "collapsed": true
   },
   "outputs": [],
   "source": [
    "with open('data/pickled/BLOCKGROUP_DF.pkl', 'w') as picklefile:\n",
    "    pickle.dump(bg_df2, picklefile)"
   ]
  }
 ],
 "metadata": {
  "anaconda-cloud": {},
  "kernelspec": {
   "display_name": "Python [conda root]",
   "language": "python",
   "name": "conda-root-py"
  },
  "language_info": {
   "codemirror_mode": {
    "name": "ipython",
    "version": 3
   },
   "file_extension": ".py",
   "mimetype": "text/x-python",
   "name": "python",
   "nbconvert_exporter": "python",
   "pygments_lexer": "ipython3",
   "version": "3.5.2"
  }
 },
 "nbformat": 4,
 "nbformat_minor": 0
}
